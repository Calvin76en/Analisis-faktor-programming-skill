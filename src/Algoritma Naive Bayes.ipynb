{
 "cells": [
  {
   "cell_type": "markdown",
   "id": "0889e04b-ee6c-4b71-b7eb-985ced55d1c5",
   "metadata": {},
   "source": [
    "# Processing with Naive Bayes Algorithm"
   ]
  },
  {
   "cell_type": "markdown",
   "id": "7c815441-bffd-45b9-af61-6f9c6a421d7d",
   "metadata": {},
   "source": [
    "### Import Library"
   ]
  },
  {
   "cell_type": "code",
   "execution_count": 3,
   "id": "f086612d-4176-4e11-9b79-c2e440616685",
   "metadata": {},
   "outputs": [],
   "source": [
    "import pandas as pd\n",
    "import numpy as np\n",
    "from sklearn.model_selection import train_test_split\n",
    "from sklearn.naive_bayes import GaussianNB\n",
    "from sklearn.metrics import classification_report, accuracy_score\n",
    "from sklearn.metrics import classification_report, confusion_matrix\n",
    "from sklearn.model_selection import StratifiedKFold\n",
    "from sklearn.model_selection import GridSearchCV\n",
    "import joblib\n",
    "import os"
   ]
  },
  {
   "cell_type": "markdown",
   "id": "7791bc37-d740-4855-b54e-64982ce7ba09",
   "metadata": {},
   "source": [
    "### Membaca Data hasil Pre-Processing"
   ]
  },
  {
   "cell_type": "code",
   "execution_count": 5,
   "id": "133bdcdb-1060-4437-9847-6cc54801a3ee",
   "metadata": {},
   "outputs": [],
   "source": [
    "df = pd.read_csv('D:/FOLDER MUTIARA/SEMESTER 5/PM/Project/Analisis-faktor-programming-skill/data/hasil_preprocessing2.csv', sep=',')"
   ]
  },
  {
   "cell_type": "markdown",
   "id": "e8b1d76a-fd9e-49c2-a850-c97a8bfc25c2",
   "metadata": {},
   "source": [
    "### Mengubah Target dari Kontinu ke Kategori"
   ]
  },
  {
   "cell_type": "code",
   "execution_count": 7,
   "id": "0fda0107-eb34-498a-afac-d7b8976ad9ec",
   "metadata": {},
   "outputs": [
    {
     "name": "stdout",
     "output_type": "stream",
     "text": [
      "   Programming Skill Programming Skill Category\n",
      "0                 70                     Medium\n",
      "1                 42                        Low\n",
      "2                 36                        Low\n",
      "3                 56                     Medium\n",
      "4                 76                       High\n"
     ]
    }
   ],
   "source": [
    "# Menentukan fungsi untuk mengubah target menjadi kategori\n",
    "def categorize_programming_skill(skill):\n",
    "    if skill <= 50:\n",
    "        return 'Low'\n",
    "    elif 51 <= skill <= 75:\n",
    "        return 'Medium'\n",
    "    else:\n",
    "        return 'High'\n",
    "\n",
    "# Membuat kolom baru untuk kategori\n",
    "df['Programming Skill Category'] = df['Programming Skill'].apply(categorize_programming_skill)\n",
    "\n",
    "# Menampilkan hasil\n",
    "print(df[['Programming Skill', 'Programming Skill Category']].head())"
   ]
  },
  {
   "cell_type": "markdown",
   "id": "b652113c-ad6c-4e66-a3c6-d6e6dc14d164",
   "metadata": {},
   "source": [
    "### Melihat 5 Baris Pertama Data"
   ]
  },
  {
   "cell_type": "markdown",
   "id": "707c017c-4036-4626-8c7d-4b17b4ce7554",
   "metadata": {},
   "source": [
    "Menggunakan df.head() untuk melihat 5 baris pertama dari dataset. Ini memberikan gambaran umum tentang struktur data."
   ]
  },
  {
   "cell_type": "code",
   "execution_count": 10,
   "id": "8054caf2-a0f3-463a-880d-f797daa08501",
   "metadata": {},
   "outputs": [
    {
     "data": {
      "text/html": [
       "<div>\n",
       "<style scoped>\n",
       "    .dataframe tbody tr th:only-of-type {\n",
       "        vertical-align: middle;\n",
       "    }\n",
       "\n",
       "    .dataframe tbody tr th {\n",
       "        vertical-align: top;\n",
       "    }\n",
       "\n",
       "    .dataframe thead th {\n",
       "        text-align: right;\n",
       "    }\n",
       "</style>\n",
       "<table border=\"1\" class=\"dataframe\">\n",
       "  <thead>\n",
       "    <tr style=\"text-align: right;\">\n",
       "      <th></th>\n",
       "      <th>Durasi Laptop</th>\n",
       "      <th>Penggunaan Medsos di Laptop</th>\n",
       "      <th>Durasi Medsos di Laptop</th>\n",
       "      <th>Social_Media_Instagram di Laptop</th>\n",
       "      <th>Social_Media_Tiktok di Laptop</th>\n",
       "      <th>Social_Media_Youtube di Laptop</th>\n",
       "      <th>Hiburan Instagram di laptop</th>\n",
       "      <th>Berita Instagram di laptop</th>\n",
       "      <th>Edukasi Instagram di laptop</th>\n",
       "      <th>Teknologi Instagram di laptop</th>\n",
       "      <th>Hobi Instagram di laptop</th>\n",
       "      <th>Hiburan TikTok di laptop</th>\n",
       "      <th>Berita TikTok di laptop</th>\n",
       "      <th>Edukasi TikTok di laptop</th>\n",
       "      <th>Teknologi TikTok di laptop</th>\n",
       "      <th>Hobi TikTok di laptop</th>\n",
       "      <th>Programming Skill</th>\n",
       "      <th>Programming Skill Category</th>\n",
       "    </tr>\n",
       "  </thead>\n",
       "  <tbody>\n",
       "    <tr>\n",
       "      <th>0</th>\n",
       "      <td>0.591079</td>\n",
       "      <td>1.241025</td>\n",
       "      <td>0.555879</td>\n",
       "      <td>1.406542</td>\n",
       "      <td>0.891131</td>\n",
       "      <td>-1.025417</td>\n",
       "      <td>0.512125</td>\n",
       "      <td>0.356383</td>\n",
       "      <td>0.477765</td>\n",
       "      <td>0.963299</td>\n",
       "      <td>-0.012744</td>\n",
       "      <td>0.644919</td>\n",
       "      <td>0.559650</td>\n",
       "      <td>0.676490</td>\n",
       "      <td>0.808165</td>\n",
       "      <td>0.269818</td>\n",
       "      <td>70</td>\n",
       "      <td>Medium</td>\n",
       "    </tr>\n",
       "    <tr>\n",
       "      <th>1</th>\n",
       "      <td>-0.456171</td>\n",
       "      <td>0.374851</td>\n",
       "      <td>-1.971706</td>\n",
       "      <td>-0.179784</td>\n",
       "      <td>0.196086</td>\n",
       "      <td>-0.018519</td>\n",
       "      <td>0.436638</td>\n",
       "      <td>0.452571</td>\n",
       "      <td>-0.957009</td>\n",
       "      <td>-0.355315</td>\n",
       "      <td>-0.314228</td>\n",
       "      <td>0.183296</td>\n",
       "      <td>0.191300</td>\n",
       "      <td>-0.977658</td>\n",
       "      <td>-0.522651</td>\n",
       "      <td>0.798145</td>\n",
       "      <td>42</td>\n",
       "      <td>Low</td>\n",
       "    </tr>\n",
       "    <tr>\n",
       "      <th>2</th>\n",
       "      <td>-0.799710</td>\n",
       "      <td>-0.022879</td>\n",
       "      <td>-0.205504</td>\n",
       "      <td>1.021602</td>\n",
       "      <td>1.068378</td>\n",
       "      <td>-0.746934</td>\n",
       "      <td>-0.031310</td>\n",
       "      <td>0.296527</td>\n",
       "      <td>0.161031</td>\n",
       "      <td>-0.811833</td>\n",
       "      <td>-0.547288</td>\n",
       "      <td>0.627937</td>\n",
       "      <td>0.805289</td>\n",
       "      <td>0.024191</td>\n",
       "      <td>-0.577333</td>\n",
       "      <td>-0.060597</td>\n",
       "      <td>36</td>\n",
       "      <td>Low</td>\n",
       "    </tr>\n",
       "    <tr>\n",
       "      <th>3</th>\n",
       "      <td>0.050544</td>\n",
       "      <td>-1.508204</td>\n",
       "      <td>-0.846895</td>\n",
       "      <td>0.676422</td>\n",
       "      <td>-0.111780</td>\n",
       "      <td>-0.883244</td>\n",
       "      <td>-0.255622</td>\n",
       "      <td>-1.562992</td>\n",
       "      <td>0.198643</td>\n",
       "      <td>0.375544</td>\n",
       "      <td>0.657302</td>\n",
       "      <td>-0.171491</td>\n",
       "      <td>-0.238071</td>\n",
       "      <td>-0.132331</td>\n",
       "      <td>0.043824</td>\n",
       "      <td>0.089143</td>\n",
       "      <td>56</td>\n",
       "      <td>Medium</td>\n",
       "    </tr>\n",
       "    <tr>\n",
       "      <th>4</th>\n",
       "      <td>-2.473920</td>\n",
       "      <td>0.418309</td>\n",
       "      <td>0.189722</td>\n",
       "      <td>-0.859500</td>\n",
       "      <td>0.322300</td>\n",
       "      <td>-0.493285</td>\n",
       "      <td>0.707085</td>\n",
       "      <td>-0.069923</td>\n",
       "      <td>0.229330</td>\n",
       "      <td>0.375864</td>\n",
       "      <td>0.744495</td>\n",
       "      <td>0.243720</td>\n",
       "      <td>-0.373004</td>\n",
       "      <td>0.204117</td>\n",
       "      <td>-0.189017</td>\n",
       "      <td>-0.136902</td>\n",
       "      <td>76</td>\n",
       "      <td>High</td>\n",
       "    </tr>\n",
       "  </tbody>\n",
       "</table>\n",
       "</div>"
      ],
      "text/plain": [
       "   Durasi Laptop  Penggunaan Medsos di Laptop  Durasi Medsos di Laptop  \\\n",
       "0       0.591079                     1.241025                 0.555879   \n",
       "1      -0.456171                     0.374851                -1.971706   \n",
       "2      -0.799710                    -0.022879                -0.205504   \n",
       "3       0.050544                    -1.508204                -0.846895   \n",
       "4      -2.473920                     0.418309                 0.189722   \n",
       "\n",
       "   Social_Media_Instagram di Laptop  Social_Media_Tiktok di Laptop  \\\n",
       "0                          1.406542                       0.891131   \n",
       "1                         -0.179784                       0.196086   \n",
       "2                          1.021602                       1.068378   \n",
       "3                          0.676422                      -0.111780   \n",
       "4                         -0.859500                       0.322300   \n",
       "\n",
       "   Social_Media_Youtube di Laptop  Hiburan Instagram di laptop  \\\n",
       "0                       -1.025417                     0.512125   \n",
       "1                       -0.018519                     0.436638   \n",
       "2                       -0.746934                    -0.031310   \n",
       "3                       -0.883244                    -0.255622   \n",
       "4                       -0.493285                     0.707085   \n",
       "\n",
       "   Berita Instagram di laptop  Edukasi Instagram di laptop  \\\n",
       "0                    0.356383                     0.477765   \n",
       "1                    0.452571                    -0.957009   \n",
       "2                    0.296527                     0.161031   \n",
       "3                   -1.562992                     0.198643   \n",
       "4                   -0.069923                     0.229330   \n",
       "\n",
       "   Teknologi Instagram di laptop  Hobi Instagram di laptop  \\\n",
       "0                       0.963299                 -0.012744   \n",
       "1                      -0.355315                 -0.314228   \n",
       "2                      -0.811833                 -0.547288   \n",
       "3                       0.375544                  0.657302   \n",
       "4                       0.375864                  0.744495   \n",
       "\n",
       "   Hiburan TikTok di laptop  Berita TikTok di laptop  \\\n",
       "0                  0.644919                 0.559650   \n",
       "1                  0.183296                 0.191300   \n",
       "2                  0.627937                 0.805289   \n",
       "3                 -0.171491                -0.238071   \n",
       "4                  0.243720                -0.373004   \n",
       "\n",
       "   Edukasi TikTok di laptop  Teknologi TikTok di laptop  \\\n",
       "0                  0.676490                    0.808165   \n",
       "1                 -0.977658                   -0.522651   \n",
       "2                  0.024191                   -0.577333   \n",
       "3                 -0.132331                    0.043824   \n",
       "4                  0.204117                   -0.189017   \n",
       "\n",
       "   Hobi TikTok di laptop  Programming Skill Programming Skill Category  \n",
       "0               0.269818                 70                     Medium  \n",
       "1               0.798145                 42                        Low  \n",
       "2              -0.060597                 36                        Low  \n",
       "3               0.089143                 56                     Medium  \n",
       "4              -0.136902                 76                       High  "
      ]
     },
     "execution_count": 10,
     "metadata": {},
     "output_type": "execute_result"
    }
   ],
   "source": [
    "df.head()"
   ]
  },
  {
   "cell_type": "markdown",
   "id": "9950f9d0-5c64-4a33-ae81-232b99ee1fa1",
   "metadata": {},
   "source": [
    "### Memisahkan Fitur dan Target"
   ]
  },
  {
   "cell_type": "code",
   "execution_count": 12,
   "id": "2f1c0471-f02d-4bac-9e1a-4e7b4b80ad56",
   "metadata": {},
   "outputs": [],
   "source": [
    "# Memisahkan fitur (X) dan target kategori (y)\n",
    "X = df.drop(['Programming Skill', 'Programming Skill Category'], axis=1)  # Semua fitur kecuali target\n",
    "y = df['Programming Skill Category']  # Target kategori\n"
   ]
  },
  {
   "cell_type": "markdown",
   "id": "b3c4b917-2847-4997-83df-91a139ed50b5",
   "metadata": {},
   "source": [
    "### Membagi Data Menjadi Training, Validation, dan Testing"
   ]
  },
  {
   "cell_type": "markdown",
   "id": "5d5120b6-ac8b-422d-8197-3c1f405b1075",
   "metadata": {},
   "source": [
    "kita akan membagi dataset menjadi tiga bagian: training set, validation set, dan test set. Tujuan dari pembagian ini adalah agar kita bisa melatih model, mengevaluasi model selama training, dan menguji kemampuan model "
   ]
  },
  {
   "cell_type": "code",
   "execution_count": 15,
   "id": "d0ca6b2a-3965-430d-ae88-fb0658f48a27",
   "metadata": {},
   "outputs": [],
   "source": [
    "from sklearn.model_selection import train_test_split\n",
    "\n",
    "# Membagi data menjadi 80% training (untuk K-Fold) dan 20% testing\n",
    "X_train_val, X_test, y_train_val, y_test = train_test_split(X, y, test_size=0.2, random_state=42, stratify=y)\n"
   ]
  },
  {
   "cell_type": "markdown",
   "id": "989813ba-b4e6-4c94-a2c9-2705a23460b5",
   "metadata": {},
   "source": [
    "### Membangun Model Multiple Linear Regression"
   ]
  },
  {
   "cell_type": "markdown",
   "id": "b0893ec9-f853-47d2-aec3-87ce252c3e78",
   "metadata": {},
   "source": [
    "Setelah data dibagi, kita akan membangun model regresi linear menggunakan scikit-learn."
   ]
  },
  {
   "cell_type": "code",
   "execution_count": 18,
   "id": "b80824f7-af7e-4d88-a680-bccf875202aa",
   "metadata": {},
   "outputs": [],
   "source": [
    "# Menggunakan Gaussian Naive Bayes\n",
    "model = GaussianNB()"
   ]
  },
  {
   "cell_type": "code",
   "execution_count": 19,
   "id": "58a15de0-50d6-4aaf-9187-cdb127c984bc",
   "metadata": {},
   "outputs": [
    {
     "name": "stdout",
     "output_type": "stream",
     "text": [
      "\n",
      "Fold Report:\n",
      "\n",
      "Fold Report:\n",
      "\n",
      "Fold Report:\n",
      "\n",
      "Fold Report:\n",
      "\n",
      "Fold Report:\n",
      "              precision    recall  f1-score   support\n",
      "\n",
      "        High       0.00      0.00      0.00         8\n",
      "         Low       0.25      0.18      0.21        28\n",
      "      Medium       0.53      0.70      0.60        44\n",
      "\n",
      "    accuracy                           0.45        80\n",
      "   macro avg       0.26      0.29      0.27        80\n",
      "weighted avg       0.38      0.45      0.40        80\n",
      "\n",
      "\n",
      "Average Validation Accuracy: 0.472716049382716\n"
     ]
    }
   ],
   "source": [
    "# Inisialisasi K-Fold\n",
    "kfold = StratifiedKFold(n_splits=5, shuffle=True, random_state=42)\n",
    "\n",
    "# Menyimpan skor akurasi di setiap fold\n",
    "scores = []\n",
    "\n",
    "# K-Fold Cross Validation\n",
    "for train_idx, val_idx in kfold.split(X_train_val, y_train_val):\n",
    "    # Membagi data training dan validation berdasarkan indeks\n",
    "    X_train, X_val = X_train_val.iloc[train_idx], X_train_val.iloc[val_idx]\n",
    "    y_train, y_val = y_train_val.iloc[train_idx], y_train_val.iloc[val_idx]\n",
    "    \n",
    "    # Melatih model pada data training\n",
    "    model.fit(X_train, y_train)\n",
    "    \n",
    "    # Membuat prediksi pada data validation\n",
    "    y_pred = model.predict(X_val)\n",
    "    \n",
    "    # Menghitung akurasi\n",
    "    acc = accuracy_score(y_val, y_pred)\n",
    "    scores.append(acc)\n",
    "    \n",
    "    # Menampilkan laporan klasifikasi untuk setiap fold (opsional)\n",
    "    print(\"\\nFold Report:\")\n",
    "    # print(classification_report(y_val, y_pred))\n",
    "print(classification_report(y_val, y_pred, zero_division=0))  # Menambahkan zero_division=0 untuk menangani precision yang tidak terdefinisi\n",
    "\n",
    "# Menampilkan hasil rata-rata akurasi dari semua fold\n",
    "print(\"\\nAverage Validation Accuracy:\", sum(scores) / len(scores))"
   ]
  },
  {
   "cell_type": "markdown",
   "id": "3e810ff0-f1d1-4de3-9761-61e4d4652313",
   "metadata": {},
   "source": [
    "### Hyperparameter Tuning"
   ]
  },
  {
   "cell_type": "markdown",
   "id": "2ac38fdc-6965-44c2-9d22-83bc4aa3e550",
   "metadata": {},
   "source": [
    "hyperparameter tuning menggunakan GridSearchCV atau RandomizedSearchCV untuk mencari hyperparameter terbaik dari model."
   ]
  },
  {
   "cell_type": "code",
   "execution_count": 22,
   "id": "d1f02fb6-edbf-40a7-8a0a-b04c83d9a757",
   "metadata": {},
   "outputs": [
    {
     "name": "stdout",
     "output_type": "stream",
     "text": [
      "Fitting 5 folds for each of 5 candidates, totalling 25 fits\n",
      "Best Parameters: {'var_smoothing': 1e-09}\n"
     ]
    }
   ],
   "source": [
    "# Mendefinisikan parameter grid untuk tuning\n",
    "param_grid = {\n",
    "    'var_smoothing': [1e-9, 1e-8, 1e-7, 1e-6, 1e-5]  # Variasi nilai var_smoothing\n",
    "}\n",
    "\n",
    "# Inisialisasi model\n",
    "model = GaussianNB()\n",
    "\n",
    "# Inisialisasi Grid Search dengan 5-fold cross-validation\n",
    "grid_search = GridSearchCV(estimator=model, param_grid=param_grid, \n",
    "                           cv=5, scoring='accuracy', verbose=1, n_jobs=-1)\n",
    "\n",
    "# Fit Grid Search pada data training + validation\n",
    "grid_search.fit(X_train_val, y_train_val)\n",
    "\n",
    "# Menampilkan parameter terbaik dari Grid Search\n",
    "print(\"Best Parameters:\", grid_search.best_params_)\n",
    "\n",
    "# Mengambil model dengan parameter terbaik\n",
    "best_model = grid_search.best_estimator_"
   ]
  },
  {
   "cell_type": "markdown",
   "id": "2ac078be-73ea-4768-8dd0-98dd3613632c",
   "metadata": {},
   "source": [
    "### Evaluasi Model pada Validation dan Test Set"
   ]
  },
  {
   "cell_type": "code",
   "execution_count": 24,
   "id": "396b465e-e153-4a60-9f33-3027893c4152",
   "metadata": {},
   "outputs": [
    {
     "name": "stdout",
     "output_type": "stream",
     "text": [
      "\n",
      "Test Report with Tuned Parameters:\n",
      "              precision    recall  f1-score   support\n",
      "\n",
      "        High       0.00      0.00      0.00        10\n",
      "         Low       0.44      0.11      0.18        36\n",
      "      Medium       0.55      0.89      0.68        56\n",
      "\n",
      "    accuracy                           0.53       102\n",
      "   macro avg       0.33      0.33      0.29       102\n",
      "weighted avg       0.46      0.53      0.44       102\n",
      "\n",
      "\n",
      "Final Test Accuracy: 0.5294117647058824\n"
     ]
    }
   ],
   "source": [
    "# Melakukan prediksi pada data testing\n",
    "y_test_pred = best_model.predict(X_test)\n",
    "\n",
    "# Menampilkan laporan klasifikasi untuk test set\n",
    "print(\"\\nTest Report with Tuned Parameters:\")\n",
    "print(classification_report(y_test, y_test_pred))\n",
    "\n",
    "# Menghitung akurasi pada data test\n",
    "test_acc = accuracy_score(y_test, y_test_pred)\n",
    "print(\"\\nFinal Test Accuracy:\", test_acc)"
   ]
  },
  {
   "cell_type": "code",
   "execution_count": 25,
   "id": "e34638f7-410c-4167-89d9-56c86a3c0483",
   "metadata": {},
   "outputs": [],
   "source": [
    "input_data = {\n",
    "    \"Durasi Laptop\": 0.591078974194839,\n",
    "    \"Penggunaan Medsos di Laptop\": 1.2410247596063955,\n",
    "    \"Durasi Medsos di Laptop\": 0.5558793479263375,\n",
    "    \"Social_Media_Instagram di Laptop\": 1.4065416168256142,\n",
    "    \"Social_Media_Tiktok di Laptop\": 0.8911313706714228,\n",
    "    \"Social_Media_Youtube di Laptop\": -1.0254173370887756,\n",
    "    \"Hiburan Instagram di laptop\": 0.5121248660448603,\n",
    "    \"Berita Instagram di laptop\": 0.35638270848626813,\n",
    "    \"Edukasi Instagram di laptop\": 0.47776512593518883,\n",
    "    \"Teknologi Instagram di laptop\": 0.963299130025909,\n",
    "    \"Hobi Instagram di laptop\": -0.012743816714464748,\n",
    "    \"Hiburan TikTok di laptop\": 0.6449185930417787,\n",
    "    \"Berita TikTok di laptop\": 0.5596503971054282,\n",
    "    \"Edukasi TikTok di laptop\": 0.6764898031864922,\n",
    "    \"Teknologi TikTok di laptop\": 0.8081649617155,\n",
    "    \"Hobi TikTok di laptop\": 0.2698184435933873\n",
    "}\n",
    "\n",
    "# Mengubah data input ke dalam format DataFrame\n",
    "df_input = pd.DataFrame([input_data])"
   ]
  },
  {
   "cell_type": "code",
   "execution_count": 26,
   "id": "389dc39e-76d8-4f9f-b7e0-af13e743a443",
   "metadata": {},
   "outputs": [
    {
     "name": "stdout",
     "output_type": "stream",
     "text": [
      "Prediksi kategori programming skill: Medium\n"
     ]
    }
   ],
   "source": [
    "# Melakukan prediksi dengan model terbaik yang telah ditentukan\n",
    "y_pred = best_model.predict(df_input)\n",
    "\n",
    "# Menampilkan hasil prediksi\n",
    "print(\"Prediksi kategori programming skill:\", y_pred[0])"
   ]
  },
  {
   "cell_type": "code",
   "execution_count": 27,
   "id": "8a1b80d0-d768-4598-aa5b-2c5baa12377f",
   "metadata": {},
   "outputs": [
    {
     "name": "stdout",
     "output_type": "stream",
     "text": [
      "Model telah disimpan di: D:/FOLDER MUTIARA/SEMESTER 5/PM/Project/Analisis-faktor-programming-skill/results/Naive_Bayes.pkl\n"
     ]
    }
   ],
   "source": [
    "# Tentukan path lengkap untuk menyimpan model\n",
    "model_path = 'D:/FOLDER MUTIARA/SEMESTER 5/PM/Project/Analisis-faktor-programming-skill/results/Naive_Bayes.pkl'\n",
    "\n",
    "# Menyimpan model yang sudah dilatih ke dalam file\n",
    "joblib.dump(model, model_path)\n",
    "\n",
    "print(f'Model telah disimpan di: {model_path}')"
   ]
  },
  {
   "cell_type": "code",
   "execution_count": 28,
   "id": "d2a9d1ff-0327-4da5-9161-92b4e2abd695",
   "metadata": {},
   "outputs": [],
   "source": [
    "# # Memuat model yang sudah disimpan\n",
    "# import joblib\n",
    "\n",
    "# model = joblib.load('D:/FOLDER MUTIARA/SEMESTER 5/PM/Project/Analisis-faktor-programming-skill/results//Naive_Bayes.pkl')\n"
   ]
  },
  {
   "cell_type": "markdown",
   "id": "2ef1134d-0055-4c71-9a25-a64d6bf641a3",
   "metadata": {},
   "source": [
    "**Dalam model Naive Bayes untuk klasifikasi, kita menggunakan metrik-metrik yang relevan untuk menilai kinerja model dalam memprediksi kategori. Berikut penjelasannya:**\r\n",
    "\r\n",
    "**1. Akurasi**  \r\n",
    "Akurasi adalah metrik yang digunakan untuk menilai kinerja model klasifikasi. Ini mengukur proporsi prediksi yang benar dari total prediksi.  \r\n",
    "Dalam model Naive Bayes, akurasi sangat relevan karena kita mengklasifikasikan data ke dalam kategori tertentu. Akurasi dihitung sebagai rasio jumlah prediksi yang benar terhadap jumlah total prediksi yang dilakukan.\r\n",
    "\r\n",
    "**2. Confusion Matrix**  \r\n",
    "Confusion matrix adalah alat untuk mengevaluasi kinerja model klasifikasi dengan menunjukkan jumlah prediksi yang benar dan salah untuk setiap kelas.  \r\n",
    "Untuk model klasifikasi seperti Naive Bayes, confusion matrix memberikan gambaran yang lebih mendetail tentang bagaimana model memprediksi setiap kelas. Confusion matrix menunjukkan jumlah True Positives (TP), True Negatives (TN), False Positives (FP), dan False Negatives (FN).\r\n",
    "\r\n",
    "**Metrik yang Digunakan dalam Klasifikasi Naive Bayes**\r\n",
    "\r\n",
    "- **Precision**  \r\n",
    "Precision mengukur seberapa tepat prediksi model dalam mengklasifikasikan kelas positif. Ini dihitung sebagai rasio antara jumlah prediksi positif yang benar (TP) dengan jumlah seluruh prediksi positif, baik yang benar maupun yang salah (TP + FP).\r\n",
    "\r\n",
    "- **Recall**  \r\n",
    "Recall mengukur seberapa baik model dalam menemukan seluruh contoh dari kelas positif. Recall dihitung sebagai rasio antara jumlah prediksi positif yang benar (TP) dengan jumlah seluruh contoh kelas positif, baik yang benar maupun yang salah (TP + FN).\r\n",
    "\r\n",
    "- **F1-Score**  \r\n",
    "F1-Score adalah rata-rata harmonis dari precision dan recall. F1-Score memberikan keseimbangan antara precision dan recall, terutama ketika ada ketidakseimbangan kelas dalam data.\r\n",
    "\r\n",
    "- **Confusion Matrix**  \r\n",
    "Confusion matrix adalah matriks yang menunjukkan berapa banyak prediksi yang benar dan salah untuk setiap kelas. Ini adalah alat penting untuk mengevaluasi kinerja model dalam klasifikasi.\r\n"
   ]
  }
 ],
 "metadata": {
  "kernelspec": {
   "display_name": "Python 3 (ipykernel)",
   "language": "python",
   "name": "python3"
  },
  "language_info": {
   "codemirror_mode": {
    "name": "ipython",
    "version": 3
   },
   "file_extension": ".py",
   "mimetype": "text/x-python",
   "name": "python",
   "nbconvert_exporter": "python",
   "pygments_lexer": "ipython3",
   "version": "3.12.4"
  }
 },
 "nbformat": 4,
 "nbformat_minor": 5
}
